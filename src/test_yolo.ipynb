{
 "cells": [
  {
   "cell_type": "code",
   "execution_count": 361,
   "metadata": {},
   "outputs": [],
   "source": [
    "import numpy as np\n",
    "import pandas as pd\n",
    "import torch\n",
    "import torch.nn as nn\n",
    "import torch.nn.functional as F\n",
    "\n",
    "import matplotlib.pyplot as plt\n",
    "import seaborn as sns\n",
    "from tqdm.notebook import tqdm\n",
    "import cv2\n",
    "from datetime import datetime as dt\n",
    "\n",
    "from models.CNN import CNNForecaster\n",
    "\n",
    "from utils import reverse_forecast\n",
    "from matplotlib.patches import Rectangle"
   ]
  },
  {
   "cell_type": "code",
   "execution_count": 362,
   "metadata": {},
   "outputs": [
    {
     "data": {
      "text/plain": [
       "CNNForecaster(\n",
       "  (embedding): Linear(in_features=40, out_features=320, bias=False)\n",
       "  (conv_layers): ModuleList(\n",
       "    (0): Conv1d(32, 32, kernel_size=(3,), stride=(1,), padding=(1,))\n",
       "    (1): Conv1d(32, 32, kernel_size=(3,), stride=(1,), padding=(1,))\n",
       "  )\n",
       "  (conv_seq): Sequential(\n",
       "    (0): Conv1d(32, 32, kernel_size=(3,), stride=(1,), padding=(1,))\n",
       "    (1): Conv1d(32, 32, kernel_size=(3,), stride=(1,), padding=(1,))\n",
       "  )\n",
       "  (fc): Linear(in_features=320, out_features=4, bias=True)\n",
       "  (dropout): Dropout(p=0.0, inplace=False)\n",
       ")"
      ]
     },
     "execution_count": 362,
     "metadata": {},
     "output_type": "execute_result"
    }
   ],
   "source": [
    "x_test = torch.tensor(np.load('data/test_video/x_test.npy'), dtype=torch.float32).detach()\n",
    "y_test = torch.tensor(np.load('data/test_video/y_test.npy'), dtype=torch.float32).detach()\n",
    "actual = y_test.clone()\n",
    "\n",
    "model = CNNForecaster((4, 10), (4, 1), 2, 0.0, 32)\n",
    "model.load_state_dict(torch.load('saved_models/human_motion_model.pt', map_location=torch.device('cpu')))\n",
    "model.eval()"
   ]
  },
  {
   "cell_type": "code",
   "execution_count": 363,
   "metadata": {},
   "outputs": [
    {
     "name": "stdout",
     "output_type": "stream",
     "text": [
      "height: 720, width: 1280\n"
     ]
    },
    {
     "data": {
      "application/vnd.jupyter.widget-view+json": {
       "model_id": "18ca2893c17a449ab3484f9ce497d056",
       "version_major": 2,
       "version_minor": 0
      },
      "text/plain": [
       "HBox(children=(FloatProgress(value=0.0, max=2930.0), HTML(value='')))"
      ]
     },
     "metadata": {},
     "output_type": "display_data"
    },
    {
     "name": "stdout",
     "output_type": "stream",
     "text": [
      "\n"
     ]
    }
   ],
   "source": [
    "def mse(arr1, arr2):\n",
    "    return torch.sqrt(torch.sum((arr1 - arr2)**2, dim=1))\n",
    "\n",
    "img_path = \"/Users/abhiram/Documents/NFS/basketball_player/240/basketball_player\"\n",
    "\n",
    "import cvlib as cv\n",
    "\n",
    "def yolo():\n",
    "    hist_truth = torch.cat((x_test, y_test), dim=-1)\n",
    "    \n",
    "    yolo_truth = torch.zeros_like(hist_truth)\n",
    "    \n",
    "    \n",
    "    curr_img = cv2.imread(f'{img_path}/00001.jpg')\n",
    "    bbox, label, conf = cv.detect_common_objects(curr_img, confidence=0.1, model='yolov4-tiny')\n",
    "    height, width, _ = curr_img.shape\n",
    "    print(f'height: {height}, width: {width}')\n",
    "    writer = cv2.VideoWriter('out/test_video_yolo.mp4', cv2.VideoWriter_fourcc(*'mp4v'), 60, (width, height))\n",
    "\n",
    "    for i in tqdm(range(1, (y_test.shape[-1] // 10 * 10) + 1)):\n",
    "        curr_img = cv2.imread(f'{img_path}/{i:05d}.jpg')\n",
    "        if (i <= 10) or (i % 10 == 0):\n",
    "            bbox, label, conf = cv.detect_common_objects(curr_img, confidence=0.0, model='yolov4')\n",
    "            curr_img = cv.object_detection.draw_bbox(curr_img, bbox, label, conf)\n",
    "            bbox_t, label, conf = torch.tensor(bbox), np.array(label), torch.tensor(conf)\n",
    "            bbox_t[:, 2] -= bbox_t[:, 0]\n",
    "            bbox_t[:, 3] -= bbox_t[:, 1]\n",
    "            bbox_t = bbox_t.T[np.newaxis, :, :]\n",
    "            \n",
    "            mse_idx = mse(bbox_t, hist_truth[:, :, i-1:i]).argmin(dim=-1)\n",
    "            \n",
    "            writer.write(curr_img)\n",
    "            bbox, label, conf = bbox[mse_idx:mse_idx+1], label[mse_idx:mse_idx+1], conf[mse_idx:mse_idx+1]\n",
    "            \n",
    "            \n",
    "            curr_img = cv.object_detection.draw_bbox(curr_img, bbox, ['sports ball'], conf)\n",
    "            \n",
    "            bbox[0][2] -= bbox[0][0]\n",
    "            bbox[0][3] -= bbox[0][1]\n",
    "            \n",
    "            yolo_truth[:, :, i-1] = torch.tensor(bbox[0])\n",
    "        writer.write(curr_img)\n",
    "                \n",
    "    \n",
    "    writer.release()\n",
    "    return yolo_truth\n",
    "\n",
    "yolo_truth = yolo()"
   ]
  },
  {
   "cell_type": "code",
   "execution_count": 364,
   "metadata": {},
   "outputs": [],
   "source": [
    "x_test = yolo_truth[:, :, :10]\n",
    "\n",
    "y_test = yolo_truth[:, :, 10:]\n",
    "\n",
    "# for i in range(0, y_test.shape[-1], 10):\n",
    "#     print('-------------------')\n",
    "#     print(actual[0, :, i])\n",
    "#     print(y_test[0, :, i])"
   ]
  },
  {
   "cell_type": "code",
   "execution_count": 365,
   "metadata": {},
   "outputs": [],
   "source": [
    "def run_model(model, history, truth):\n",
    "    history = history.clone().detach() \n",
    "    truth = truth.clone().detach() \n",
    "    truth = truth[:, :, :(truth.shape[-1] // 10 * 10)]\n",
    "    model.eval()\n",
    "    with torch.no_grad():\n",
    "        predictions = torch.zeros_like(truth)\n",
    "        for iteration in range(truth.shape[2] // 10):\n",
    "            pred_series = torch.zeros((1, 4, 10))\n",
    "            for i in range(10):\n",
    "                input_hist = torch.cat((history[:, :, -(10-i):], pred_series[:, :, :i]), dim=-1)\n",
    "                pred = torch.round(model(input_hist))\n",
    "                pred_series[:, :, i] = pred\n",
    "            \n",
    "            predictions[:, :, (iteration*10):((iteration+1)*10)] = pred_series\n",
    "\n",
    "            fts = 10 * (iteration + 1)\n",
    "            future = truth[:, :, fts-1].unsqueeze(-1)\n",
    "            \n",
    "            interpolated = reverse_forecast(history[:, :, -10:],\n",
    "                                            list(range(10)),\n",
    "                                            future,\n",
    "                                            19, deg=1)\n",
    "            interpolated = torch.round(interpolated)\n",
    "            history = torch.cat((history, interpolated), dim=-1)\n",
    "        \n",
    "        return predictions\n",
    "\n",
    "def midpoint(arr):\n",
    "    arr = arr[0, :, :]\n",
    "    x = arr[0] + .5 * arr[2]\n",
    "    y = arr[1] + .5 * arr[3]\n",
    "    return np.array([x, y])\n",
    "\n",
    "def ade(pred, truth):\n",
    "    pred = pred[0, :, :]\n",
    "    truth = truth[0, :, :]\n",
    "    return torch.mean(torch.sqrt(torch.sum((pred - truth)**2, dim=1)))\n",
    "\n"
   ]
  },
  {
   "cell_type": "code",
   "execution_count": 366,
   "metadata": {},
   "outputs": [
    {
     "name": "stdout",
     "output_type": "stream",
     "text": [
      "Time Taken: 0:00:01.250713\n"
     ]
    },
    {
     "data": {
      "image/png": "[encoded data removed]",
      "text/plain": [
       "<Figure size 1440x720 with 1 Axes>"
      ]
     },
     "metadata": {
      "needs_background": "light"
     },
     "output_type": "display_data"
    },
    {
     "name": "stdout",
     "output_type": "stream",
     "text": [
      "ADE: tensor(583.4278)\n"
     ]
    }
   ],
   "source": [
    "start = dt.now()\n",
    "predictions = run_model(model, x_test, y_test)\n",
    "end = dt.now()\n",
    "print(\"Time Taken:\", end - start)\n",
    "\n",
    "\n",
    "hist_mid = midpoint(x_test.detach().numpy())\n",
    "predictions_mid = midpoint(predictions.detach().numpy())\n",
    "truth_mid = midpoint(y_test.detach().numpy())\n",
    "\n",
    "\n",
    "fig, ax = plt.subplots(figsize=(20, 10))\n",
    "ax.plot(predictions_mid[0], predictions_mid[1], 'g-', label='Predictions')\n",
    "ax.plot(hist_mid[0], hist_mid[1], 'b-', label='History')\n",
    "ax.plot(truth_mid[0, ::10], truth_mid[1, ::10], 'r-', label='Truth')\n",
    "\n",
    "ax.add_patch(Rectangle((x_test[0, 0, -1], x_test[0, 1, -1]), x_test[0, 2, -1], x_test[0, 3, -1], fill=False, edgecolor='blue'))\n",
    "ax.add_patch(Rectangle((y_test[0, 0, -1], y_test[0, 1, -1]), y_test[0, 2, -1], y_test[0, 3, -1], fill=False, edgecolor='red'))\n",
    "ax.add_patch(Rectangle((predictions[0, 0, -1], predictions[0, 1, -1]), predictions[0, 2, -1], predictions[0, 3, -1], fill=False, edgecolor='green'))\n",
    "\n",
    "ax.set_xlim(0, 1280)\n",
    "ax.set_ylim(0, 720)\n",
    "ax.invert_yaxis()\n",
    "\n",
    "plt.show()\n",
    "\n",
    "print(\"ADE:\", ade(predictions, actual[:, :, :-(actual.shape[-1] % 10)]))"
   ]
  },
  {
   "cell_type": "code",
   "execution_count": null,
   "metadata": {},
   "outputs": [],
   "source": [
    "\n",
    "    \n"
   ]
  },
  {
   "cell_type": "code",
   "execution_count": 367,
   "metadata": {},
   "outputs": [
    {
     "name": "stdout",
     "output_type": "stream",
     "text": [
      "height: 720, width: 1280\n"
     ]
    },
    {
     "data": {
      "application/vnd.jupyter.widget-view+json": {
       "model_id": "93f455d22d3a49639323431309ed897f",
       "version_major": 2,
       "version_minor": 0
      },
      "text/plain": [
       "HBox(children=(FloatProgress(value=0.0, max=2930.0), HTML(value='')))"
      ]
     },
     "metadata": {},
     "output_type": "display_data"
    },
    {
     "name": "stdout",
     "output_type": "stream",
     "text": [
      "\n"
     ]
    }
   ],
   "source": [
    "\"\"\"\n",
    "Create a video file of the detected objects\n",
    "\"\"\"\n",
    "\n",
    "import cvlib as cv\n",
    "\n",
    "curr_img = cv2.imread(f'{img_path}/00001.jpg')\n",
    "# bbox, label, conf = cv.detect_common_objects(curr_img, confidence=0.1, model='yolov4-tiny')\n",
    "height, width, _ = curr_img.shape\n",
    "print(f'height: {height}, width: {width}')\n",
    "writer = cv2.VideoWriter('out/test_video_out.mp4', cv2.VideoWriter_fourcc(*'mp4v'), 240, (width, height))\n",
    "\n",
    "for i in tqdm(range(1, (y_test.shape[-1] // 10 * 10) + 1)):\n",
    "    curr_img = cv2.imread(f'{img_path}/{i:05d}.jpg')\n",
    "    if i < 10:\n",
    "        bbox = [x_test[0, :, i-1].detach().numpy().flatten()]\n",
    "        label = ['actual']\n",
    "        conf = [1]\n",
    "        color = [(0, 255, 0)]\n",
    "    if i > 10:\n",
    "        bbox = [y_test[0, :, i-11].detach().numpy().flatten(),\n",
    "                predictions[0, :, i-11].detach().numpy().flatten()]\n",
    "        label = ['truth', 'pred']\n",
    "        conf = [1, 1]\n",
    "        color = [(0, 0, 255), (0, 0, 255)]\n",
    "        \n",
    "    for bb, l, c, col in zip(bbox, label, conf, color):\n",
    "        x, y, w, h = bb\n",
    "        x = int(x)\n",
    "        y = int(y)\n",
    "        w = int(w)\n",
    "        h = int(h)\n",
    "        cv2.rectangle(curr_img, (x, y), (x+w, y+h), col, 2)\n",
    "    \n",
    "    writer.write(curr_img)\n",
    "\n",
    "writer.release()"
   ]
  },
  {
   "cell_type": "code",
   "execution_count": null,
   "metadata": {},
   "outputs": [],
   "source": []
  }
 ],
 "metadata": {
  "interpreter": {
   "hash": "05ece30799c2dcdac4c13b3af20453da19de8df0d9a1de52cff7e0b6e1e82bdd"
  },
  "kernelspec": {
   "display_name": "Python 3.6.8 64-bit",
   "language": "python",
   "name": "python3"
  },
  "language_info": {
   "codemirror_mode": {
    "name": "ipython",
    "version": 3
   },
   "file_extension": ".py",
   "mimetype": "text/x-python",
   "name": "python",
   "nbconvert_exporter": "python",
   "pygments_lexer": "ipython3",
   "version": "3.6.8"
  },
  "orig_nbformat": 4
 },
 "nbformat": 4,
 "nbformat_minor": 2
}
